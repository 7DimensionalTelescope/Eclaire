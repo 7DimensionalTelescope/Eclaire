{
 "cells": [
  {
   "cell_type": "markdown",
   "metadata": {
    "colab_type": "text",
    "id": "bKvIFmqaMqjt"
   },
   "source": [
    "# 0. Initialize"
   ]
  },
  {
   "cell_type": "code",
   "execution_count": 15,
   "metadata": {},
   "outputs": [],
   "source": [
    "\n",
    "import sys\n",
    "import re\n",
    "import shlex\n",
    "import subprocess\n",
    "import pkg_resources\n",
    "\n",
    "from setuptools import setup\n",
    "from setuptools import find_packages\n",
    "\n",
    "desc  = 'Eclaire: CUDA-based Library for Astronomical Image REduction'\n",
    "ldesc = '''\n",
    "This package provides some useful classes and functions\n",
    "in astronomical image reduction, \n",
    "and their processing speed is acceralated by using GPU via CUDA.\n",
    "'''\n",
    "\n",
    "def getoutput(cmd):\n",
    "    if sys.version_info.major == 2:\n",
    "        output = subprocess.check_output(cmd)\n",
    "    else:\n",
    "        cp = subprocess.run(cmd,stdout=subprocess.PIPE)\n",
    "        cp.check_returncode()\n",
    "        output = cp.stdout.decode()\n",
    "\n",
    "    return output\n",
    "\n",
    "def get_cuda_version():\n",
    "    try:\n",
    "        output = \"release \"+str(12.8)#getoutput(shlex.split('nvcc -V'))\n",
    "    except Exception:\n",
    "        return None\n",
    "\n",
    "    match = re.search(r'release\\s([\\d\\.]+)',output)\n",
    "    print(match)\n",
    "    if match is not None:\n",
    "        result, = match.groups()\n",
    "        print(result)\n",
    "        if float(result)>=12:\n",
    "            version = result.split(\".\")[0]\n",
    "            result = version+\"x\"\n",
    "        return result\n",
    "    else:\n",
    "        return None\n",
    "\n",
    "def get_correspond_cupy():\n",
    "    cuda_version = get_cuda_version()\n",
    "    pkg_name = 'cupy'\n",
    "    print(cuda_version)\n",
    "    if cuda_version is not None:\n",
    "        try:\n",
    "            current = pkg_resources.get_distribution(\n",
    "                'cupy-cuda{}'.format(cuda_version.replace('.',''))\n",
    "            )\n",
    "        except Exception:\n",
    "            pass\n",
    "        else:\n",
    "            pkg_name = current.project_name\n",
    "    \n",
    "    return pkg_name\n"
   ]
  },
  {
   "cell_type": "code",
   "execution_count": 21,
   "metadata": {},
   "outputs": [],
   "source": [
    "dist = pkg_resources.get_distribution('numpy')"
   ]
  },
  {
   "cell_type": "code",
   "execution_count": 23,
   "metadata": {},
   "outputs": [
    {
     "data": {
      "text/plain": [
       "'numpy'"
      ]
     },
     "execution_count": 23,
     "metadata": {},
     "output_type": "execute_result"
    }
   ],
   "source": [
    "dist.project_name"
   ]
  },
  {
   "cell_type": "code",
   "execution_count": 16,
   "metadata": {},
   "outputs": [
    {
     "name": "stdout",
     "output_type": "stream",
     "text": [
      "<re.Match object; span=(0, 12), match='release 12.8'>\n",
      "12.8\n",
      "12x\n"
     ]
    },
    {
     "data": {
      "text/plain": [
       "'cupy'"
      ]
     },
     "execution_count": 16,
     "metadata": {},
     "output_type": "execute_result"
    }
   ],
   "source": [
    "get_correspond_cupy()"
   ]
  },
  {
   "cell_type": "code",
   "execution_count": null,
   "metadata": {
    "colab": {},
    "colab_type": "code",
    "id": "YTqLPSc0P1NM"
   },
   "outputs": [],
   "source": [
    "# Specify a working directory\n",
    "workdir = '/content/drive/My Drive/test_eclaire'"
   ]
  },
  {
   "cell_type": "code",
   "execution_count": null,
   "metadata": {
    "colab": {},
    "colab_type": "code",
    "id": "oVa26LRaJ_NE"
   },
   "outputs": [],
   "source": [
    "# Mount Google Drive to store FITS files to use.\n",
    "from google.colab import drive\n",
    "drive.mount('/content/drive')"
   ]
  },
  {
   "cell_type": "code",
   "execution_count": null,
   "metadata": {
    "colab": {},
    "colab_type": "code",
    "id": "rX-8UApgNwVJ"
   },
   "outputs": [],
   "source": [
    "import sys\n",
    "import os\n",
    "import shutil\n",
    "import requests\n",
    "import functools\n",
    "import warnings\n",
    "from glob import glob\n",
    "\n",
    "from astropy.io import fits\n",
    "from astropy.wcs import WCS\n",
    "import cupy  as cp\n",
    "import numpy as np\n",
    "\n",
    "import matplotlib.pyplot as plt\n",
    "from astropy.visualization import ZScaleInterval\n",
    "from tqdm.notebook import tqdm"
   ]
  },
  {
   "cell_type": "code",
   "execution_count": null,
   "metadata": {},
   "outputs": [],
   "source": [
    "# Install Ecliare\n",
    "!pip install git+https://github.com/MNiwano/Eclaire"
   ]
  },
  {
   "cell_type": "code",
   "execution_count": null,
   "metadata": {
    "colab": {},
    "colab_type": "code",
    "id": "ohaSopGSU4fL"
   },
   "outputs": [],
   "source": [
    "from eclaire import FitsContainer, reduction, fixpix, imalign, imcombine"
   ]
  },
  {
   "cell_type": "code",
   "execution_count": null,
   "metadata": {
    "colab": {},
    "colab_type": "code",
    "id": "YEreR-npRnfg"
   },
   "outputs": [],
   "source": [
    "fitslist = ['raw{:02d}.fits'.format(i) for i in range(10)]\n",
    "\n",
    "dark = 'dark.fits'\n",
    "flat = 'flat.fits'\n",
    "bpmask = 'bpmask.fits'\n",
    "\n",
    "output = 'combine.fits'"
   ]
  },
  {
   "cell_type": "code",
   "execution_count": null,
   "metadata": {
    "colab": {},
    "colab_type": "code",
    "id": "8-_C1cyqPJRz"
   },
   "outputs": [],
   "source": [
    "# Create the working directory on Google Drive and download the test data-set.\n",
    "if not os.path.exists(workdir):\n",
    "  os.mkdir(workdir)\n",
    "\n",
    "os.chdir(workdir)\n",
    "\n",
    "url = 'http://sncwall.hp.phys.titech.ac.jp:2388/samplefits/'\n",
    "for f in tqdm(fitslist+[dark,flat,bpmask]):\n",
    "    if not os.path.exists(f):\n",
    "        res = requests.get(url+f, stream=True)\n",
    "        with open(f, 'wb') as fp:\n",
    "            shutil.copyfileobj(res.raw, fp)"
   ]
  },
  {
   "cell_type": "markdown",
   "metadata": {
    "colab_type": "text",
    "id": "nxTsVB4yM9R8"
   },
   "source": [
    "  # 1. Data Loading\n",
    "<b>eclaire.FitsContainer</b> class is used to load FITS images for reduction processing. When a list of file names is given, FITS in the list are searched for in the current directory and loaded. The header is stored in <b>FitsContainer.header</b> as a <b>list</b> of <b>astropy.io.fits.Header</b> instances, and the image data is stored in <b>FitsContainer.data</b> as a 3D <b>cupy.ndarray</b>. Each image data is stacked in the direction of the first axis, with the second axis corresponding to the Y-axis and the third axis to the X-axis."
   ]
  },
  {
   "cell_type": "code",
   "execution_count": null,
   "metadata": {
    "colab": {},
    "colab_type": "code",
    "id": "fKsyr3XkT_pf"
   },
   "outputs": [],
   "source": [
    "fc = FitsContainer(\n",
    "    fitslist,\n",
    "    #wrapper=functools.partial(tqdm,total=len(fitslist)), # Display progress bar\n",
    ")\n",
    "\n",
    "# Removal of overscan areas in the image\n",
    "fc.data = fc.data[:,2:1022,52:1072]"
   ]
  },
  {
   "cell_type": "code",
   "execution_count": null,
   "metadata": {
    "colab": {},
    "colab_type": "code",
    "id": "REXVr8cWVHPE"
   },
   "outputs": [],
   "source": [
    "npdark = fits.getdata(dark)\n",
    "npflat = fits.getdata(flat)\n",
    "npbpm = fits.getdata(bpmask)\n",
    "\n",
    "cpdark = cp.asarray(npdark,dtype='float32')\n",
    "cpflat = cp.asarray(npflat+(npflat==0.0),dtype='float32')\n",
    "cpbpm = cp.asarray(npbpm,dtype='float32')"
   ]
  },
  {
   "cell_type": "markdown",
   "metadata": {
    "colab_type": "text",
    "id": "VTM9zlg9NOOL"
   },
   "source": [
    "# 2. Calculate shift amount\n",
    "You can find the relative positions of the images with using WCS information in headers. Eclaire is not used here."
   ]
  },
  {
   "cell_type": "code",
   "execution_count": null,
   "metadata": {
    "colab": {},
    "colab_type": "code",
    "id": "JB9dBiqwNT9k"
   },
   "outputs": [],
   "source": [
    "# For ignoreing FITSFixedWarning\n",
    "with warnings.catch_warnings():\n",
    "    warnings.simplefilter('ignore',FITSFixedWarning)\n",
    "    \n",
    "    wcs = [WCS(header) for header in fc.header]\n",
    "\n",
    "xy0 = np.array([[450,450],[450,650],[650,450],[650,650]])\n",
    "ad0 = wcs[0].wcs_pix2world(xy0,1)\n",
    "shift = np.empty([len(wcs),2],dtype='f4')\n",
    "for i, w in enumerate(wcs):\n",
    "    xy = w.wcs_world2pix(ad0,1)\n",
    "    shift[i] = (xy0-xy).mean(axis=0)"
   ]
  },
  {
   "cell_type": "markdown",
   "metadata": {
    "colab_type": "text",
    "id": "bPeiI6xhWAgb"
   },
   "source": [
    "# 3. Reduction\n",
    "First, <b>eclaire.reduction</b> performs bias & dark subtraction, and flat fielding at once.\n",
    "This function is equivalent to the following expression in this example.\n",
    "```\n",
    "fc.data = (fc.data - cpbias - cpdark) / cpflat\n",
    "```\n",
    "However, it can be executed with less overhead of calling and memory usage.\n",
    "Each input value must be broadcastable.\n",
    "(This is a reason of increasing the dimension of <b>cpbias</b> with <b>reshape</b> method.)\n",
    "The next step is correcting bad pixels with using <b>eclaire.firepix</b>.\n",
    "This function overwrites the bad pixels with the average of the surrounding pixel counts.\n",
    "The given bad-pixel mask must have non-zero values for the bad-pixel positions and zero otherwise."
   ]
  },
  {
   "cell_type": "code",
   "execution_count": null,
   "metadata": {
    "colab": {},
    "colab_type": "code",
    "id": "SpKJpNBgV_68"
   },
   "outputs": [],
   "source": [
    "# Here we'll use the bias count written in the header,\n",
    "# but If you want to use the master bias frame,\n",
    "# just load it as cupy.ndarray in the same way as dark.\n",
    "bias = [f['PEDLEVEL'] for f in fc.header]\n",
    "cpbias = cp.array(bias,dtype='f4').reshape(-1,1,1)"
   ]
  },
  {
   "cell_type": "code",
   "execution_count": null,
   "metadata": {
    "colab": {},
    "colab_type": "code",
    "id": "754nI28mW3jk"
   },
   "outputs": [],
   "source": [
    "fc.data = reduction(fc.data, cpbias, cpdark, cpflat)"
   ]
  },
  {
   "cell_type": "code",
   "execution_count": null,
   "metadata": {
    "colab": {},
    "colab_type": "code",
    "id": "JNHiCZpJYGii"
   },
   "outputs": [],
   "source": [
    "fc.data = fixpix(fc.data, cpbpm)"
   ]
  },
  {
   "cell_type": "markdown",
   "metadata": {
    "colab_type": "text",
    "id": "Aa3nm9uHYUiJ"
   },
   "source": [
    "# 4. Align\n",
    "Align the images based on the relative positions calculated earlier.\n",
    "<b>shift</b> must be two-dimensional array, where the first value in the second axis direction is interpreted as the X coordinate and the second as the Y coordinate.\n",
    "The order in the first axis must be the same as the order of the images in the array given as the first argument.\n",
    "\n",
    "The default interpolation algorithm for sub-pixel shift is bicubic-spline."
   ]
  },
  {
   "cell_type": "code",
   "execution_count": null,
   "metadata": {
    "colab": {},
    "colab_type": "code",
    "id": "TnwFQyhhYXvS"
   },
   "outputs": [],
   "source": [
    "fc.data = imalign(\n",
    "    fc.data, shift,\n",
    "    #interp='spline3', # specify the interpolation algorithm\n",
    "    # 'neighbor', 'linear', and 'poly3' can also be selected.\n",
    ")"
   ]
  },
  {
   "cell_type": "markdown",
   "metadata": {
    "colab_type": "text",
    "id": "rGJJ3M2oYr3R"
   },
   "source": [
    "# 5. Co-adding\n",
    "Co-add the images. The default algorithm is sigma-clipped-mean."
   ]
  },
  {
   "cell_type": "code",
   "execution_count": null,
   "metadata": {
    "colab": {},
    "colab_type": "code",
    "id": "VARdN_3jYtoy"
   },
   "outputs": [],
   "source": [
    "combined = imcombine(\n",
    "    fc.data, name=output, list=fitslist, overwrite=True,\n",
    "    #combine='mean' # specify the co-adding method\n",
    "    #width=3.0 # specify the clipping width\n",
    "    #iters=5 # specify the number of iterations\n",
    ")"
   ]
  },
  {
   "cell_type": "markdown",
   "metadata": {
    "colab_type": "text",
    "id": "EwY95Fk7ZEzx"
   },
   "source": [
    "# 6. Show Result"
   ]
  },
  {
   "cell_type": "code",
   "execution_count": null,
   "metadata": {
    "colab": {},
    "colab_type": "code",
    "id": "elN8aIoRZGh5"
   },
   "outputs": [],
   "source": [
    "data = fits.getdata(output)\n",
    "vrange = ZScaleInterval().get_limits(data)\n",
    "data.clip(*vrange,out=data)\n",
    "\n",
    "plt.figure()\n",
    "plt.imshow(data,origin='lower')\n",
    "plt.colorbar()\n",
    "plt.show()"
   ]
  }
 ],
 "metadata": {
  "accelerator": "GPU",
  "colab": {
   "collapsed_sections": [],
   "name": "reduction.ipynb",
   "provenance": []
  },
  "kernelspec": {
   "display_name": "Python 3 (ipykernel)",
   "language": "python",
   "name": "python3"
  },
  "language_info": {
   "codemirror_mode": {
    "name": "ipython",
    "version": 3
   },
   "file_extension": ".py",
   "mimetype": "text/x-python",
   "name": "python",
   "nbconvert_exporter": "python",
   "pygments_lexer": "ipython3",
   "version": "3.10.6"
  }
 },
 "nbformat": 4,
 "nbformat_minor": 4
}
